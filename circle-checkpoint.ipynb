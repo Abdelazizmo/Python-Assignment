{
 "cells": [
  {
   "cell_type": "code",
   "execution_count": 1,
   "metadata": {},
   "outputs": [
    {
     "name": "stdout",
     "output_type": "stream",
     "text": [
      " Please Enter the radius of a circle: 5\n",
      " \n",
      "Diameter Of a Circle = 10.00\n",
      " Circumference Of a Circle = 31.40\n",
      " Area Of a Circle = 78.50\n"
     ]
    }
   ],
   "source": [
    "PI = 3.14\n",
    "radius = float(input(' Please Enter the radius of a circle: '))\n",
    "\n",
    "diameter = 2 * radius\n",
    "circumference = 2 * PI * radius\n",
    "area = PI * radius * radius\n",
    "\n",
    "print(\" \\nDiameter Of a Circle = %.2f\" %diameter)\n",
    "print(\" Circumference Of a Circle = %.2f\" %circumference)\n",
    "print(\" Area Of a Circle = %.2f\" %area)"
   ]
  },
  {
   "cell_type": "code",
   "execution_count": null,
   "metadata": {},
   "outputs": [],
   "source": []
  }
 ],
 "metadata": {
  "kernelspec": {
   "display_name": "Python 3",
   "language": "python",
   "name": "python3"
  },
  "language_info": {
   "codemirror_mode": {
    "name": "ipython",
    "version": 3
   },
   "file_extension": ".py",
   "mimetype": "text/x-python",
   "name": "python",
   "nbconvert_exporter": "python",
   "pygments_lexer": "ipython3",
   "version": "3.7.6"
  }
 },
 "nbformat": 4,
 "nbformat_minor": 4
}
