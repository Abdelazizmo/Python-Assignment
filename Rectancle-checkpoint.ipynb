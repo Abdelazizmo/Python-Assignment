{
 "cells": [
  {
   "cell_type": "code",
   "execution_count": 1,
   "metadata": {},
   "outputs": [
    {
     "name": "stdout",
     "output_type": "stream",
     "text": [
      "Length : 2\n",
      "Width : 3\n",
      "Area of Rectangle :  6\n",
      "Perimeter of Rectangle :  10\n"
     ]
    }
   ],
   "source": [
    "l=int(input(\"Length : \"))\n",
    "w=int(input(\"Width : \"))\n",
    "area=l*w\n",
    "perimeter=2*(l+w)\n",
    "print(\"Area of Rectangle : \",area)\n",
    "print(\"Perimeter of Rectangle : \",perimeter)"
   ]
  },
  {
   "cell_type": "code",
   "execution_count": null,
   "metadata": {},
   "outputs": [],
   "source": []
  }
 ],
 "metadata": {
  "kernelspec": {
   "display_name": "Python 3",
   "language": "python",
   "name": "python3"
  },
  "language_info": {
   "codemirror_mode": {
    "name": "ipython",
    "version": 3
   },
   "file_extension": ".py",
   "mimetype": "text/x-python",
   "name": "python",
   "nbconvert_exporter": "python",
   "pygments_lexer": "ipython3",
   "version": "3.7.6"
  }
 },
 "nbformat": 4,
 "nbformat_minor": 4
}
